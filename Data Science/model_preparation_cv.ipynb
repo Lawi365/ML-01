{
 "cells": [
  {
   "cell_type": "markdown",
   "id": "ec5f8326",
   "metadata": {},
   "source": [
    "###### Cross validation gives a good perfomance"
   ]
  },
  {
   "cell_type": "markdown",
   "id": "6a2659c8",
   "metadata": {},
   "source": [
    "Model 1 : The naive approach. transform all then fit"
   ]
  },
  {
   "cell_type": "code",
   "execution_count": 1,
   "id": "87f45015",
   "metadata": {},
   "outputs": [
    {
     "name": "stdout",
     "output_type": "stream",
     "text": [
      "Accuracy: 92.900 (2.675)\n"
     ]
    }
   ],
   "source": [
    "from numpy import mean\n",
    "from numpy import std\n",
    "from sklearn.datasets import make_classification\n",
    "from sklearn.model_selection import cross_val_score\n",
    "from sklearn.model_selection import RepeatedStratifiedKFold\n",
    "from sklearn.preprocessing import MinMaxScaler\n",
    "from sklearn.linear_model import LogisticRegression\n",
    "\n",
    "X, y = make_classification(n_samples = 1000, n_features=20, \n",
    "                          n_redundant=5,random_state=7)\n",
    "\n",
    "\n",
    "scaler = MinMaxScaler()\n",
    "X = scaler.fit_transform(X)\n",
    "\n",
    "# define the model\n",
    "model = LogisticRegression()\n",
    "\n",
    "# Define the model evaluation procedure.\n",
    "cv = RepeatedStratifiedKFold(n_splits=10, n_repeats=3, random_state=1)\n",
    "\n",
    "# evaluate the model using cross-validation.\n",
    "scores = cross_val_score(model, X, y ,\n",
    "                         scoring= 'accuracy',\n",
    "                        cv = cv, n_jobs = -1)\n",
    "\n",
    "# we can then report the average accuracy across all of th rpeteats \n",
    "# and folds.\n",
    "print('Accuracy: %.3f (%.3f)'% (mean(scores)*100, std(scores)*100))"
   ]
  },
  {
   "cell_type": "markdown",
   "id": "90b490d8",
   "metadata": {},
   "source": [
    "#####      The Reccommended Approach. using Cv \n"
   ]
  },
  {
   "cell_type": "code",
   "execution_count": 5,
   "id": "14991eb5",
   "metadata": {},
   "outputs": [
    {
     "name": "stdout",
     "output_type": "stream",
     "text": [
      "Accuracy: 92.943 (2.596)\n"
     ]
    }
   ],
   "source": [
    "# Data prep without leakage is done using pipeline.\n",
    "\n",
    "from numpy import mean\n",
    "from numpy import std\n",
    "from sklearn.datasets import make_classification\n",
    "from sklearn.model_selection import cross_val_score\n",
    "from sklearn.model_selection import RepeatedStratifiedKFold\n",
    "from sklearn.preprocessing import MinMaxScaler\n",
    "from sklearn.linear_model import LogisticRegression\n",
    "from sklearn.pipeline import Pipeline\n",
    "\n",
    "# define dataset \n",
    "\n",
    "X1, y1 = make_classification(n_samples=1000, n_features=20,\n",
    "                          n_redundant= 5, random_state=7)\n",
    "\n",
    "# define the pipeline.\n",
    "steps = list()\n",
    "steps.append(('Scaler', MinMaxScaler()))\n",
    "steps.append(('model', LogisticRegression()))\n",
    "pipeline = Pipeline(steps=steps)\n",
    "\n",
    "# Define the evaluation procedure.\n",
    "cv = RepeatedStratifiedKFold(n_splits=10, n_repeats=7, random_state=1)\n",
    "\n",
    "# evaluate the model using cross-validation\n",
    "\n",
    "scores = cross_val_score(pipeline, X1, y1 , scoring='accuracy',\n",
    "                        cv=cv , n_jobs = -1)\n",
    "# report perfomance.\n",
    "print(\"Accuracy: %.3f (%.3f)\"%(mean(scores)*100, std(scores)*100))\n"
   ]
  },
  {
   "cell_type": "code",
   "execution_count": null,
   "id": "1830f0ee",
   "metadata": {},
   "outputs": [],
   "source": [
    "# Although the improvement may be as a result of parameter tuning\n",
    "# the reccomended approach to avoiding leakage is scaling\n",
    "# the data after spliting. \n",
    "\n",
    "#----- on to Data Cleaning ---Thanks Brownlee --->"
   ]
  }
 ],
 "metadata": {
  "kernelspec": {
   "display_name": "Python 3",
   "language": "python",
   "name": "python3"
  },
  "language_info": {
   "codemirror_mode": {
    "name": "ipython",
    "version": 3
   },
   "file_extension": ".py",
   "mimetype": "text/x-python",
   "name": "python",
   "nbconvert_exporter": "python",
   "pygments_lexer": "ipython3",
   "version": "3.8.8"
  }
 },
 "nbformat": 4,
 "nbformat_minor": 5
}
