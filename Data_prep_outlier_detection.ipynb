{
 "cells": [
  {
   "cell_type": "markdown",
   "id": "4046984f",
   "metadata": {},
   "source": [
    "###### Day 3 Data Preparation Outlier Detection."
   ]
  },
  {
   "cell_type": "code",
   "execution_count": 9,
   "id": "ff9cc062",
   "metadata": {},
   "outputs": [
    {
     "name": "stdout",
     "output_type": "stream",
     "text": [
      "We Identified: 29\n",
      "Non-outlier observations: 9971\n",
      "Non-outlier observations: 9971\n",
      "65.15428556186015\n",
      "69.79301352018982\n",
      "66.60539378085183\n",
      "34.73117809786848\n",
      "34.23321274904475\n"
     ]
    }
   ],
   "source": [
    "# Coding as in Brownlee's Bk Data prep\n",
    "# Some of the codes have been altered.\n",
    "\n",
    "from numpy.random import seed\n",
    "from numpy.random import randn\n",
    "from numpy import mean\n",
    "from numpy import std\n",
    "\n",
    "seed(1)\n",
    "\n",
    "# Now generate univariate observations\n",
    "# The observations are a 1 dimension array\n",
    "\n",
    "data = 5 * randn(10000) + 50\n",
    "data.shape\n",
    "\n",
    "# calcuating summary stats.\n",
    "data_mean , data_std = mean(data), std(data)\n",
    "\n",
    "# Defining outliers.\n",
    "# outliers reside 3 std away from the mean\n",
    "\n",
    "cut_off = 3 * data_std\n",
    "\n",
    "lower, upper = data_mean - cut_off, data_mean + cut_off\n",
    "\n",
    "# Now if the observations fall outside the range we can remove them.\n",
    "\n",
    "outliers = [ x for x in data if x < lower or x > upper]\n",
    "print(\"We Identified: %d\"% len(outliers))\n",
    "\n",
    "# Now to remove them \n",
    "outliers_removed = [ x for x in data if x >= lower and x<= upper]\n",
    "print('Non-outlier observations: %d'% (len(data)-len(outliers)))\n",
    "print('Non-outlier observations: %d'% len(outliers_removed))\n",
    "\n",
    "for i in range(5):\n",
    "    print(outliers[i])\n",
    "\n",
    "    "
   ]
  },
  {
   "cell_type": "markdown",
   "id": "cc4b3379",
   "metadata": {},
   "source": [
    "Generally This approach is good and is commonly used."
   ]
  },
  {
   "cell_type": "markdown",
   "id": "f30b6be1",
   "metadata": {},
   "source": [
    "##### InterQuartile Range Method.\n"
   ]
  },
  {
   "cell_type": "code",
   "execution_count": 13,
   "id": "8322a0ba",
   "metadata": {},
   "outputs": [
    {
     "name": "stdout",
     "output_type": "stream",
     "text": [
      "Found the following: 81\n"
     ]
    }
   ],
   "source": [
    "# For the IQR method .\n",
    "# The code is my implementation.\n",
    "# an outlier is said to be one if it falls outside the\n",
    "# range Q1 - 1.5 IQR TO Q3 + 1.5 * IQR.\n",
    "\n",
    "# using the data above we can use the percentile fxn\n",
    "\n",
    "from numpy import percentile\n",
    "\n",
    "Q1 , Q3 = percentile( data, [25,75])\n",
    "\n",
    "IQR = Q3 - Q1\n",
    "\n",
    "upper, lower = Q3 + 1.5* IQR ,Q1 - 1.5 * IQR\n",
    "\n",
    "outlier = [x for x in data if x > upper or x < lower]\n",
    "print(\"Found the following: %d\"% len(outlier))\n"
   ]
  },
  {
   "cell_type": "markdown",
   "id": "b13b323a",
   "metadata": {},
   "source": [
    "##### Automatic Outlier Detection"
   ]
  },
  {
   "cell_type": "code",
   "execution_count": null,
   "id": "acfc79b0",
   "metadata": {},
   "outputs": [],
   "source": []
  }
 ],
 "metadata": {
  "kernelspec": {
   "display_name": "Python 3",
   "language": "python",
   "name": "python3"
  },
  "language_info": {
   "codemirror_mode": {
    "name": "ipython",
    "version": 3
   },
   "file_extension": ".py",
   "mimetype": "text/x-python",
   "name": "python",
   "nbconvert_exporter": "python",
   "pygments_lexer": "ipython3",
   "version": "3.8.8"
  }
 },
 "nbformat": 4,
 "nbformat_minor": 5
}
