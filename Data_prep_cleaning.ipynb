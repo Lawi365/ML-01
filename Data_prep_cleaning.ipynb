{
 "cells": [
  {
   "cell_type": "code",
   "execution_count": null,
   "id": "02770bb4",
   "metadata": {},
   "outputs": [],
   "source": [
    "# This is day 2 Machine Learning\n",
    "# as guided by Jason Brownlee's bk\n",
    "# Data Preparation \n"
   ]
  },
  {
   "cell_type": "code",
   "execution_count": 2,
   "id": "24e867c5",
   "metadata": {},
   "outputs": [],
   "source": [
    "from  urllib.request import urlretrieve as retv\n",
    "url = \"https://raw.githubusercontent.com/jbrownlee/Datasets/master/oil-spill.csv\"\n",
    "retv(url,\"oil.csv\")\n",
    "url2 = \"https://raw.githubusercontent.com/jbrownlee/Datasets/master/iris.csv\""
   ]
  },
  {
   "cell_type": "code",
   "execution_count": null,
   "id": "3a910291",
   "metadata": {},
   "outputs": [],
   "source": [
    "import pandas as pd\n",
    "\n",
    "df = pd.read_csv(\"oil.csv\",sep=\",\",header=None)\n",
    "df.head()"
   ]
  },
  {
   "cell_type": "code",
   "execution_count": null,
   "id": "ec3e4478",
   "metadata": {},
   "outputs": [],
   "source": [
    "#the first thing is to look at the shape of the \n",
    "#dataset \n",
    "\n",
    "df.shape\n",
    "#we have determined that it contains 50 features \n",
    "# 936 rows.\n",
    "\n",
    "# we need to identify zero variance predictors\n",
    "unique = df.nunique()\n",
    "print(unique)\n",
    "\n",
    "# Zero var predictors have a single value.\n",
    "# we may remove them \n",
    "df.drop(unique[22], axis=1, inplace=True)\n",
    "df.shape"
   ]
  },
  {
   "cell_type": "code",
   "execution_count": null,
   "id": "f0651d29",
   "metadata": {},
   "outputs": [],
   "source": [
    "#It was a success Next we have to check\n",
    "# on the columns with few values.\n",
    "# a.k.a Near Zero Variance Predictors.\n",
    "\n",
    "# Brownlees method is to check the % of unique values.\n",
    "from numpy import unique\n",
    "from numpy import loadtxt\n",
    "\n",
    "# load the dataset\n",
    "data = loadtxt('oil.csv', delimiter=\",\")\n",
    "\n",
    "for i in range( data.shape[1]):\n",
    "    num = len ( unique(data[:,i]))\n",
    "    percentage = float(num)/ data.shape[0] * 100\n",
    "    if percentage < 1:\n",
    "        print('%d,  %d  %.1f%%'% ( i,num , percentage))\n",
    "    \n",
    "# we see that index 22 and 36 have less than 0.5 % of unique values\n",
    "# we may drop them but reserve this for special relooking.\n",
    "\n",
    "print(df.shape)\n",
    "\n",
    "# get the numbe of unique values for each column\n",
    "counts = df.nunique()\n",
    "\n",
    "# record columns to delet\n",
    "to_del = [ i for i, v in enumerate(counts) if (float(v)/df.shape[0]*100) < 1]\n",
    "print(to_del)\n",
    "\n",
    "# drop the useless columns.\n",
    "df.drop(to_del, axis=1, inplace=True)\n",
    "print(df.shape)\n",
    "\n",
    "# I know that i Messed up somewhere\n",
    "# and its because i had already deleted the 22nd column\n",
    "# anw that's how its done.\n"
   ]
  },
  {
   "cell_type": "markdown",
   "id": "2b84d380",
   "metadata": {},
   "source": [
    "Removing Columns That Have A Low Variance.\n"
   ]
  },
  {
   "cell_type": "code",
   "execution_count": null,
   "id": "621d150f",
   "metadata": {},
   "outputs": [],
   "source": [
    "from sklearn.feature_selection import VarianceThreshold\n",
    "# we can load the dataset afresh\n",
    "from pandas import read_csv\n",
    "\n",
    "df = read_csv(\"Oil.csv\", header=None)\n",
    "\n",
    "# split the data into input and output\n",
    "data = df.values\n",
    "X = data[:, :-1]\n",
    "y = data[:,-1]\n",
    "\n",
    "print(X.shape,y.shape)\n",
    "\n",
    "# # Define the transform\n",
    "# transform = VarianceThreshold()\n",
    "\n",
    "# # transfrom the input data\n",
    "# X_sel = transform.fit_transform(X)\n",
    "# print(X_sel.shape)"
   ]
  },
  {
   "cell_type": "markdown",
   "id": "96037e15",
   "metadata": {},
   "source": [
    "From above we can see that a column was removed.\n",
    "we now have 48 features to work with.\n"
   ]
  },
  {
   "cell_type": "code",
   "execution_count": null,
   "id": "c03f40bf",
   "metadata": {},
   "outputs": [],
   "source": [
    "# we can also raise the threshold to 1.\n",
    "\n",
    "# transform = VarianceThreshold(1)\n",
    "# X_sel = transform.fit_transform(X)\n",
    "# print(X_sel.shape)\n",
    "# 19 features were droped.\n",
    "# but below is Brownlees code."
   ]
  },
  {
   "cell_type": "code",
   "execution_count": null,
   "id": "3d342c61",
   "metadata": {},
   "outputs": [],
   "source": [
    "from numpy import arange\n",
    "from sklearn.feature_selection import VarianceThreshold\n",
    "# define the thresholds to check.\n",
    "\n",
    "thresholds = arange(0.0, 0.55, 0.05)\n",
    "\n",
    "# apply transform with each threshold.\n",
    "print(thresholds.shape)\n",
    "results = list()\n",
    "\n",
    "for t in thresholds:\n",
    "    # define the transform\n",
    "    transform = VarianceThreshold(threshold=t)\n",
    "    \n",
    "    # transform the input data\n",
    "    X_sel = transform.fit_transform(X)\n",
    "    \n",
    "    # determine the number of input features\n",
    "    n_features = X_sel.shape[1]\n",
    "    \n",
    "    print('>Threshold= %.2f, Feature=%d' % ( t, n_features))\n",
    "    # store the result\n",
    "    results.append(n_features)\n",
    "    \n",
    "    # plot the threshold vs the number of selected features.\n",
    "    from matplotlib import pyplot as plt\n",
    "    \n",
    "    plt.plot(thresholds, results)\n",
    "    plt.show()"
   ]
  },
  {
   "cell_type": "code",
   "execution_count": 1,
   "id": "17becaf1",
   "metadata": {},
   "outputs": [
    {
     "name": "stdout",
     "output_type": "stream",
     "text": [
      "(937, 49) (937,)\n",
      ">Threshold=0.00, Features=48\n",
      ">Threshold=0.05, Features=37\n",
      ">Threshold=0.10, Features=36\n",
      ">Threshold=0.15, Features=35\n",
      ">Threshold=0.20, Features=35\n",
      ">Threshold=0.25, Features=35\n",
      ">Threshold=0.30, Features=35\n",
      ">Threshold=0.35, Features=35\n",
      ">Threshold=0.40, Features=35\n",
      ">Threshold=0.45, Features=33\n",
      ">Threshold=0.50, Features=31\n"
     ]
    },
    {
     "data": {
      "image/png": "[encoded data removed]",
      "text/plain": [
       "<Figure size 432x288 with 1 Axes>"
      ]
     },
     "metadata": {
      "needs_background": "light"
     },
     "output_type": "display_data"
    }
   ],
   "source": [
    "# Brownlees code.\n",
    "# explore the effect of the variance thresholds on the number of selected features\n",
    "from numpy import arange\n",
    "from pandas import read_csv\n",
    "from sklearn.feature_selection import VarianceThreshold\n",
    "from matplotlib import pyplot\n",
    "\n",
    "# load the dataset\n",
    "df = read_csv('Oil.csv', header=None)\n",
    "# split data into inputs and outputs\n",
    "\n",
    "data = df.values\n",
    "X = data[:, :-1]\n",
    "y = data[:, -1]\n",
    "print(X.shape, y.shape)\n",
    "\n",
    "# define thresholds to check\n",
    "thresholds = arange(0.0, 0.55, 0.05)\n",
    "\n",
    "# apply transform with each threshold\n",
    "results = list()\n",
    "\n",
    "for t in thresholds:\n",
    "    # define the transform\n",
    "    transform = VarianceThreshold(threshold=t)\n",
    "    # transform the input data\n",
    "    X_sel = transform.fit_transform(X)\n",
    "    # determine the number of input features\n",
    "    n_features = X_sel.shape[1]\n",
    "    print('>Threshold=%.2f, Features=%d' % (t, n_features))\n",
    "    # store the result\n",
    "    results.append(n_features)\n",
    "    # plot the threshold vs the number of selected features\n",
    "pyplot.plot(thresholds, results)\n",
    "pyplot.show()\n"
   ]
  },
  {
   "cell_type": "markdown",
   "id": "74a717ac",
   "metadata": {},
   "source": [
    "##### Identifying Rows That Contain Duplicate Data."
   ]
  },
  {
   "cell_type": "code",
   "execution_count": 28,
   "id": "d12c8d62",
   "metadata": {},
   "outputs": [
    {
     "data": {
      "text/html": [
       "<div>\n",
       "<style scoped>\n",
       "    .dataframe tbody tr th:only-of-type {\n",
       "        vertical-align: middle;\n",
       "    }\n",
       "\n",
       "    .dataframe tbody tr th {\n",
       "        vertical-align: top;\n",
       "    }\n",
       "\n",
       "    .dataframe thead th {\n",
       "        text-align: right;\n",
       "    }\n",
       "</style>\n",
       "<table border=\"1\" class=\"dataframe\">\n",
       "  <thead>\n",
       "    <tr style=\"text-align: right;\">\n",
       "      <th></th>\n",
       "      <th>0</th>\n",
       "      <th>1</th>\n",
       "      <th>2</th>\n",
       "      <th>3</th>\n",
       "      <th>4</th>\n",
       "    </tr>\n",
       "  </thead>\n",
       "  <tbody>\n",
       "    <tr>\n",
       "      <th>0</th>\n",
       "      <td>5.1</td>\n",
       "      <td>3.5</td>\n",
       "      <td>1.4</td>\n",
       "      <td>0.2</td>\n",
       "      <td>Iris-setosa</td>\n",
       "    </tr>\n",
       "    <tr>\n",
       "      <th>1</th>\n",
       "      <td>4.9</td>\n",
       "      <td>3.0</td>\n",
       "      <td>1.4</td>\n",
       "      <td>0.2</td>\n",
       "      <td>Iris-setosa</td>\n",
       "    </tr>\n",
       "    <tr>\n",
       "      <th>2</th>\n",
       "      <td>4.7</td>\n",
       "      <td>3.2</td>\n",
       "      <td>1.3</td>\n",
       "      <td>0.2</td>\n",
       "      <td>Iris-setosa</td>\n",
       "    </tr>\n",
       "    <tr>\n",
       "      <th>3</th>\n",
       "      <td>4.6</td>\n",
       "      <td>3.1</td>\n",
       "      <td>1.5</td>\n",
       "      <td>0.2</td>\n",
       "      <td>Iris-setosa</td>\n",
       "    </tr>\n",
       "    <tr>\n",
       "      <th>4</th>\n",
       "      <td>5.0</td>\n",
       "      <td>3.6</td>\n",
       "      <td>1.4</td>\n",
       "      <td>0.2</td>\n",
       "      <td>Iris-setosa</td>\n",
       "    </tr>\n",
       "  </tbody>\n",
       "</table>\n",
       "</div>"
      ],
      "text/plain": [
       "     0    1    2    3            4\n",
       "0  5.1  3.5  1.4  0.2  Iris-setosa\n",
       "1  4.9  3.0  1.4  0.2  Iris-setosa\n",
       "2  4.7  3.2  1.3  0.2  Iris-setosa\n",
       "3  4.6  3.1  1.5  0.2  Iris-setosa\n",
       "4  5.0  3.6  1.4  0.2  Iris-setosa"
      ]
     },
     "execution_count": 28,
     "metadata": {},
     "output_type": "execute_result"
    }
   ],
   "source": [
    "from pandas import read_csv\n",
    "retv(url2,'iris.csv')\n",
    "# loading the dataset.\n",
    "df = read_csv('iris.csv', header=None)\n",
    "df.head()\n",
    "\n"
   ]
  },
  {
   "cell_type": "code",
   "execution_count": 29,
   "id": "f9d9d434",
   "metadata": {},
   "outputs": [
    {
     "name": "stdout",
     "output_type": "stream",
     "text": [
      "Dups returned:  True \n"
     ]
    }
   ],
   "source": [
    "# To identify duplicates we use: duplicate()\n",
    "dups = df.duplicated()\n",
    "\n",
    "# Does dups have any duplicates.\n",
    "print(\"Dups returned:  {} \".format(dups.any()))\n"
   ]
  },
  {
   "cell_type": "code",
   "execution_count": 30,
   "id": "71add680",
   "metadata": {},
   "outputs": [
    {
     "name": "stdout",
     "output_type": "stream",
     "text": [
      "       0    1    2    3               4\n",
      "34   4.9  3.1  1.5  0.1     Iris-setosa\n",
      "37   4.9  3.1  1.5  0.1     Iris-setosa\n",
      "142  5.8  2.7  5.1  1.9  Iris-virginica\n"
     ]
    }
   ],
   "source": [
    "# Okey now print the values.\n",
    "# since dups returns true false values\n",
    "# it can be passed into the df with positions.\n",
    "\n",
    "print(df[dups])\n"
   ]
  },
  {
   "cell_type": "code",
   "execution_count": 31,
   "id": "14b159fb",
   "metadata": {},
   "outputs": [
    {
     "name": "stdout",
     "output_type": "stream",
     "text": [
      "(150, 5)\n",
      "(147, 5)\n"
     ]
    }
   ],
   "source": [
    "#Brown's approach\n",
    "print(df.shape)\n",
    "df.drop_duplicates(inplace=True)\n",
    "print(df.shape)"
   ]
  },
  {
   "cell_type": "code",
   "execution_count": 27,
   "id": "8eaebc1d",
   "metadata": {},
   "outputs": [
    {
     "name": "stdout",
     "output_type": "stream",
     "text": [
      "(150, 5)\n",
      "(145, 5)\n"
     ]
    }
   ],
   "source": [
    "# These Values Need To be Deleted.\n",
    "print(df.shape)\n",
    "\n",
    "# My approach.\n",
    "df.drop(df[dups], axis=0, inplace=True)\n",
    "print(df.shape)\n",
    "\n",
    "# with my approach 5 variables were removed.\n",
    "# This is implies that 2 rows have been lost.\n",
    "# A way around this....still thinking.\n",
    "\n"
   ]
  },
  {
   "cell_type": "code",
   "execution_count": 32,
   "id": "1fb0d381",
   "metadata": {},
   "outputs": [],
   "source": [
    "# That marked the end of todays tutorial.\n",
    "# Now I'm heading to Zindi to test out the skill\n",
    "# check out what i've done on zindi under Data-Man."
   ]
  }
 ],
 "metadata": {
  "kernelspec": {
   "display_name": "Python 3",
   "language": "python",
   "name": "python3"
  },
  "language_info": {
   "codemirror_mode": {
    "name": "ipython",
    "version": 3
   },
   "file_extension": ".py",
   "mimetype": "text/x-python",
   "name": "python",
   "nbconvert_exporter": "python",
   "pygments_lexer": "ipython3",
   "version": "3.8.8"
  }
 },
 "nbformat": 4,
 "nbformat_minor": 5
}
