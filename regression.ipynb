{
 "cells": [
  {
   "cell_type": "raw",
   "metadata": {},
   "source": [
    "THIS NOTEBOOK CONTAINS ALL REGRESSION MODELS ( LINEAR REGRESSION, RIDGE REGRESSION AND LASSO REGRESSION)\n",
    "\n",
    "AUTHOR: LAWRENCE MBOYA\n",
    "DAY AUTHORED: 28TH - 29TH 2022\n",
    "PYTHON VERSION USED : 3.10.1 64-BIT\n",
    "\n",
    "BOOK USED AS A GUIDE: INTRODUCTION TO MACHINE LEARNING ( OREILY)\n",
    "DATASETS USED: BOSTON DATASET, EXTENDED BOSTON DATASET\n",
    "THE EXT. DATASET CONTAIN 105 MORE FEATURES.\n",
    "THIS CODE CAN BE USED OR REUSED NO ATTRIBUTION NEEDED.\n",
    "HAPPY CODING.\n"
   ]
  },
  {
   "cell_type": "code",
   "execution_count": 38,
   "metadata": {},
   "outputs": [],
   "source": [
    "# THIS IS AN EXAMPLE OF REGRESSION MODEL FITING.\n",
    "# FOR BOTH CLASSIFICATION AND REGRESSION.\n",
    "\n",
    "%timeit\n",
    "import pandas as pd\n",
    "from sklearn.linear_model import Ridge\n",
    "from sklearn.linear_model import LinearRegression\n",
    "from sklearn.model_selection import train_test_split\n",
    "\n",
    "\n"
   ]
  },
  {
   "cell_type": "code",
   "execution_count": 4,
   "metadata": {},
   "outputs": [
    {
     "name": "stderr",
     "output_type": "stream",
     "text": [
      "C:\\Python310\\lib\\site-packages\\sklearn\\utils\\deprecation.py:87: FutureWarning: Function load_boston is deprecated; `load_boston` is deprecated in 1.0 and will be removed in 1.2.\n",
      "\n",
      "    The Boston housing prices dataset has an ethical problem. You can refer to\n",
      "    the documentation of this function for further details.\n",
      "\n",
      "    The scikit-learn maintainers therefore strongly discourage the use of this\n",
      "    dataset unless the purpose of the code is to study and educate about\n",
      "    ethical issues in data science and machine learning.\n",
      "\n",
      "    In this special case, you can fetch the dataset from the original\n",
      "    source::\n",
      "\n",
      "        import pandas as pd\n",
      "        import numpy as np\n",
      "\n",
      "\n",
      "        data_url = \"http://lib.stat.cmu.edu/datasets/boston\"\n",
      "        raw_df = pd.read_csv(data_url, sep=\"\\s+\", skiprows=22, header=None)\n",
      "        data = np.hstack([raw_df.values[::2, :], raw_df.values[1::2, :2]])\n",
      "        target = raw_df.values[1::2, 2]\n",
      "\n",
      "    Alternative datasets include the California housing dataset (i.e.\n",
      "    :func:`~sklearn.datasets.fetch_california_housing`) and the Ames housing\n",
      "    dataset. You can load the datasets as follows::\n",
      "\n",
      "        from sklearn.datasets import fetch_california_housing\n",
      "        housing = fetch_california_housing()\n",
      "\n",
      "    for the California housing dataset and::\n",
      "\n",
      "        from sklearn.datasets import fetch_openml\n",
      "        housing = fetch_openml(name=\"house_prices\", as_frame=True)\n",
      "\n",
      "    for the Ames housing dataset.\n",
      "    \n",
      "  warnings.warn(msg, category=FutureWarning)\n"
     ]
    }
   ],
   "source": [
    "import mglearn\n",
    "\n",
    "# THE MODULE HAS EXTENDED BOSTON DATASET.\n",
    "\n",
    "X, y = mglearn.datasets.load_extended_boston()\n",
    "\n",
    "X_train, X_test, y_train, y_test = train_test_split(X, y , random_state=98)\n",
    "\n"
   ]
  },
  {
   "cell_type": "markdown",
   "metadata": {},
   "source": [
    "MODEL 1: LINEAR REGRESSION."
   ]
  },
  {
   "cell_type": "code",
   "execution_count": 5,
   "metadata": {},
   "outputs": [
    {
     "name": "stdout",
     "output_type": "stream",
     "text": [
      "Training set score: 0.95\n",
      "Test set score: 0.66\n"
     ]
    }
   ],
   "source": [
    "linear_regression = LinearRegression().fit(X_train, y_train)\n",
    "\n",
    "#TEST AND TRAINNING SCORE.\n",
    "\n",
    "print(\"Training set score: {:.2f}\".format(linear_regression.score(X_train, y_train)))\n",
    "print(\"Test set score: {:.2f}\".format(linear_regression.score(X_test, y_test)))\n",
    "\n",
    "\n"
   ]
  },
  {
   "cell_type": "markdown",
   "metadata": {},
   "source": [
    "MODEL 2: RIDGE REGRESSION AND HYPER PARAMETER PROPERTIES."
   ]
  },
  {
   "cell_type": "code",
   "execution_count": 6,
   "metadata": {},
   "outputs": [
    {
     "name": "stdout",
     "output_type": "stream",
     "text": [
      "Training score: 0.88\n",
      "Test score : 0.76\n"
     ]
    }
   ],
   "source": [
    "ridge_regression = Ridge().fit(X_train, y_train)\n",
    "\n",
    "# TEST AND TRAINNING SCORE\n",
    "print(\"Training score: {:.2f}\".format(ridge_regression.score(X_train, y_train)))\n",
    "print(\"Test score : {:.2f}\".format(ridge_regression.score(X_test, y_test)))"
   ]
  },
  {
   "cell_type": "code",
   "execution_count": 7,
   "metadata": {},
   "outputs": [
    {
     "name": "stdout",
     "output_type": "stream",
     "text": [
      "Training score: 0.82\n",
      "Test score : 0.70\n"
     ]
    }
   ],
   "source": [
    "# FOR THE RIDGE REGRESSION THE PARAMETER TO BE TUNED IS ALPHA\n",
    "\n",
    "ridge_alpha_5 = Ridge(alpha=5).fit(X_train, y_train)\n",
    "\n",
    "# TEST AND TRAINNING SCORE\n",
    "print(\"Training score: {:.2f}\".format(ridge_alpha_5.score(X_train, y_train)))\n",
    "print(\"Test score : {:.2f}\".format(ridge_alpha_5.score(X_test, y_test)))"
   ]
  },
  {
   "cell_type": "code",
   "execution_count": 15,
   "metadata": {},
   "outputs": [],
   "source": [
    "%matplotlib inline\n",
    "import matplotlib.pyplot as plt\n",
    "#import seaborn as sns; sns.set()\n"
   ]
  },
  {
   "cell_type": "code",
   "execution_count": null,
   "metadata": {},
   "outputs": [
    {
     "name": "stdout",
     "output_type": "stream",
     "text": [
      "Training score: 0.9209\n",
      "Test score : 0.7753\n"
     ]
    }
   ],
   "source": [
    "# FOR THE RIDGE REGRESSION THE PARAMETER TO BE TUNED IS ALPHA\n",
    "\n",
    "ridge_alpha_1 = Ridge(alpha=0.1669).fit(X_train, y_train)\n",
    "\n",
    "# TEST AND TRAINNING SCORE\n",
    "print(\"Training score: {:.4f}\".format(ridge_alpha_1.score(X_train, y_train)))\n",
    "print(\"Test score : {:.4f}\".format(ridge_alpha_1.score(X_test, y_test)))"
   ]
  },
  {
   "cell_type": "code",
   "execution_count": null,
   "metadata": {},
   "outputs": [],
   "source": [
    "# NOW PLOTTING THE RESULTS TO DETERMINE THE BEST ALPHA LEVEL.\n",
    "# DECIDED TO PLOT THE VALUES THE CELL ABOVE."
   ]
  },
  {
   "cell_type": "code",
   "execution_count": null,
   "metadata": {},
   "outputs": [
    {
     "name": "stderr",
     "output_type": "stream",
     "text": [
      "No artists with labels found to put in legend.  Note that artists whose label start with an underscore are ignored when legend() is called with no argument.\n"
     ]
    },
    {
     "data": {
      "image/png": "[encoded data removed]",
      "text/plain": [
       "<Figure size 432x288 with 1 Axes>"
      ]
     },
     "metadata": {},
     "output_type": "display_data"
    }
   ],
   "source": [
    "# CREATING A METHOD TO VIEW HOW ALPHA CHANGES MODEL ACCURACY.\n",
    "import numpy as np\n",
    "from sklearn.linear_model import Ridge\n",
    "alpha_values = np.arange(10, 0.01, -0.05 )\n",
    "#print(alpha_values.shape[0])\n",
    "\n",
    "test_score = []\n",
    "train_score = []\n",
    "\n",
    "for alpha in range(alpha_values.shape[0]):\n",
    "    ridge_alpha = Ridge(alpha=alpha_values[alpha]).fit(X_train, y_train)\n",
    "    train_score.append(ridge_alpha.score(X_train, y_train))\n",
    "    test_score.append(ridge_alpha.score(X_test, y_test))\n",
    "\n",
    "    # PLOTTING IS DONE OUTSIDE.\n",
    "\n",
    "plt.plot(alpha_values, test_score, '-')\n",
    "plt.plot(alpha_values, train_score, '--')\n",
    "plt.axis('tight')\n",
    "plt.title('Alpha Level Effect on Ridge Regression Model Accuracy')\n",
    "plt.xlabel('Alpha Level')\n",
    "plt.ylabel('Accuracy Score')\n",
    "plt.legend()\n",
    "plt.show()\n",
    "\n",
    "\n",
    "\n",
    "\n"
   ]
  },
  {
   "cell_type": "markdown",
   "metadata": {},
   "source": [
    "LASSSO REGRESSION AND PARAMETER PROPERTIES."
   ]
  },
  {
   "cell_type": "code",
   "execution_count": 30,
   "metadata": {},
   "outputs": [
    {
     "name": "stdout",
     "output_type": "stream",
     "text": [
      "Trainning set score: 0.27\n",
      "Test set score : 0.24\n",
      "number of features used: 4\n"
     ]
    }
   ],
   "source": [
    "from sklearn.linear_model import Lasso\n",
    "\n",
    "lass_regression = Lasso().fit(X_train, y_train)\n",
    "print(\"Trainning set score: {:.2f}\".format(lass_regression.score(X_train, y_train)))\n",
    "print(\"Test set score : {:.2f}\".format(lass_regression.score(X_test, y_test)))\n",
    "print(\"number of features used: {}\".format(np.sum(lass_regression.coef_ != 0 )))"
   ]
  },
  {
   "cell_type": "code",
   "execution_count": null,
   "metadata": {},
   "outputs": [],
   "source": [
    "\" as can be seen the model is underfit Badly!, it used 4 of the 105 features\"\n",
    "\"Lass pushed the features to zero real quick!\"\n",
    "\"To overcome this( underfitting), we need to tweak alpha plus another hyper parameter aka max_iter)\"\n",
    " "
   ]
  },
  {
   "cell_type": "code",
   "execution_count": 32,
   "metadata": {},
   "outputs": [
    {
     "name": "stdout",
     "output_type": "stream",
     "text": [
      "Trainning set score: 0.89\n",
      "Test set score : 0.76\n",
      "number of features used: 34\n"
     ]
    }
   ],
   "source": [
    "# INCREASE THE DEFAULT SETTING OF MAX_ITER \n",
    "# OTHERWISE THE MODEL WOULD ISSUE OUT A WARNING.\n",
    "\n",
    "lasso001 = Lasso(alpha=0.01, max_iter= 100000).fit(X_train, y_train)\n",
    "\n",
    "#THE SCORING...\n",
    "\n",
    "print(\"Trainning set score: {:.2f}\".format(lasso001.score(X_train, y_train)))\n",
    "print(\"Test set score : {:.2f}\".format(lasso001.score(X_test, y_test)))\n",
    "print(\"number of features used: {}\".format(np.sum(lasso001.coef_ != 0 )))"
   ]
  },
  {
   "cell_type": "code",
   "execution_count": 33,
   "metadata": {},
   "outputs": [
    {
     "name": "stdout",
     "output_type": "stream",
     "text": [
      "Trainning set score: 0.95\n",
      "Test set score : 0.69\n",
      "number of features used: 94\n"
     ]
    }
   ],
   "source": [
    "# INCREASE THE DEFAULT SETTING OF MAX_ITER \n",
    "# OTHERWISE THE MODEL WOULD ISSUE OUT A WARNING.\n",
    "\n",
    "lasso0001 = Lasso(alpha=0.0001, max_iter= 100000).fit(X_train, y_train)\n",
    "\n",
    "#THE SCORING...\n",
    "\n",
    "print(\"Trainning set score: {:.2f}\".format(lasso0001.score(X_train, y_train)))\n",
    "print(\"Test set score : {:.2f}\".format(lasso0001.score(X_test, y_test)))\n",
    "print(\"number of features used: {}\".format(np.sum(lasso0001.coef_ != 0 )))"
   ]
  },
  {
   "cell_type": "code",
   "execution_count": 34,
   "metadata": {},
   "outputs": [],
   "source": [
    "# INCREASING THE VALUE OF ALPHA BEYOND CERTAIN LEVEL DOES INDEED \n",
    "# HAVE AN EFFECT ON THE MODEL ACCURACY.\n",
    "# ITS RECOMENDED THAT INORDER TO FIND THE OPTIMUM VALUE OF THIS FOR MAX ACCURACY\n",
    "# WRITE A CODE TO FIND THIS VALUE FOR VARIOUS VALUES OF ALPHA.\n",
    "# RECOMENDER? -> ME HAHA.\n",
    "# A NEWBIE...WHO JUST LEARNING AS YOU ARE.\n",
    "\n",
    "# ADDITIONALY THE MOST PREFERED OF THE TWO.\n",
    "# SIMPLE MODEL USE LASSO \n",
    "# FIST TO MODEL RIDGE.\n",
    "\n",
    "# YOU CAN ALSO HAVE THE BEST OF BOTH WORLDS.\n",
    "# USE ELASTIC NET, IT COMBINES BOTH BUT AT THE PRICE OF THE TWO PARAMERS \n",
    "# ONE FOR BOTH L1 - LASSO AND L2 - RIDGE. "
   ]
  },
  {
   "cell_type": "code",
   "execution_count": null,
   "metadata": {},
   "outputs": [],
   "source": [
    "# HAVING SAID THAT FOR LINEAR MOD"
   ]
  }
 ],
 "metadata": {
  "interpreter": {
   "hash": "2be5faf79681da6f2a61fdfdd5405d65d042280f7fba6178067603e3a2925119"
  },
  "kernelspec": {
   "display_name": "Python 3.10.1 64-bit",
   "language": "python",
   "name": "python3"
  },
  "language_info": {
   "codemirror_mode": {
    "name": "ipython",
    "version": 3
   },
   "file_extension": ".py",
   "mimetype": "text/x-python",
   "name": "python",
   "nbconvert_exporter": "python",
   "pygments_lexer": "ipython3",
   "version": "3.10.1"
  },
  "orig_nbformat": 4
 },
 "nbformat": 4,
 "nbformat_minor": 2
}
