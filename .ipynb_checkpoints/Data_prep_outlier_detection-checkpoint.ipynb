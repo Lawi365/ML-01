{
 "cells": [
  {
   "cell_type": "markdown",
   "id": "ad6719b5",
   "metadata": {},
   "source": [
    "###### Day 3 Data Preparation Outlier Detection."
   ]
  },
  {
   "cell_type": "code",
   "execution_count": 1,
   "id": "27730f17",
   "metadata": {},
   "outputs": [
    {
     "name": "stdout",
     "output_type": "stream",
     "text": [
      "We Identified: 29\n",
      "Non-outlier observations: 9971\n",
      "Non-outlier observations: 9971\n",
      "65.15428556186015\n",
      "69.79301352018982\n",
      "66.60539378085183\n",
      "34.73117809786848\n",
      "34.23321274904475\n"
     ]
    }
   ],
   "source": [
    "# Coding as in Brownlee's Bk Data prep\n",
    "# Some of the codes have been altered.\n",
    "\n",
    "from numpy.random import seed\n",
    "from numpy.random import randn\n",
    "from numpy import mean\n",
    "from numpy import std\n",
    "\n",
    "seed(1)\n",
    "\n",
    "# Now generate univariate observations\n",
    "# The observations are a 1 dimension array\n",
    "\n",
    "data = 5 * randn(10000) + 50\n",
    "data.shape\n",
    "\n",
    "# calcuating summary stats.\n",
    "data_mean , data_std = mean(data), std(data)\n",
    "\n",
    "# Defining outliers.\n",
    "# outliers reside 3 std away from the mean\n",
    "\n",
    "cut_off = 3 * data_std\n",
    "\n",
    "lower, upper = data_mean - cut_off, data_mean + cut_off\n",
    "\n",
    "# Now if the observations fall outside the range we can remove them.\n",
    "\n",
    "outliers = [ x for x in data if x < lower or x > upper]\n",
    "print(\"We Identified: %d\"% len(outliers))\n",
    "\n",
    "# Now to remove them \n",
    "outliers_removed = [ x for x in data if x >= lower and x<= upper]\n",
    "print('Non-outlier observations: %d'% (len(data)-len(outliers)))\n",
    "print('Non-outlier observations: %d'% len(outliers_removed))\n",
    "\n",
    "for i in range(5):\n",
    "    print(outliers[i])\n",
    "\n",
    "    "
   ]
  },
  {
   "cell_type": "markdown",
   "id": "cd93daa0",
   "metadata": {},
   "source": [
    "Generally This approach is good and is commonly used."
   ]
  },
  {
   "cell_type": "markdown",
   "id": "314e7cc0",
   "metadata": {},
   "source": [
    "##### InterQuartile Range Method.\n"
   ]
  },
  {
   "cell_type": "code",
   "execution_count": 2,
   "id": "63b747c2",
   "metadata": {},
   "outputs": [
    {
     "name": "stdout",
     "output_type": "stream",
     "text": [
      "Found the following: 81\n"
     ]
    }
   ],
   "source": [
    "# For the IQR method .\n",
    "# The code is my implementation.\n",
    "# an outlier is said to be one if it falls outside the\n",
    "# range Q1 - 1.5 IQR TO Q3 + 1.5 * IQR.\n",
    "\n",
    "# using the data above we can use the percentile fxn\n",
    "\n",
    "from numpy import percentile\n",
    "\n",
    "Q1 , Q3 = percentile( data, [25,75])\n",
    "\n",
    "IQR = Q3 - Q1\n",
    "\n",
    "upper, lower = Q3 + 1.5* IQR ,Q1 - 1.5 * IQR\n",
    "\n",
    "outlier = [x for x in data if x > upper or x < lower]\n",
    "print(\"Found the following: %d\"% len(outlier))\n"
   ]
  },
  {
   "cell_type": "markdown",
   "id": "c87c63b6",
   "metadata": {},
   "source": [
    "##### Automatic Outlier Detection"
   ]
  },
  {
   "cell_type": "code",
   "execution_count": 3,
   "id": "aad3c4ac",
   "metadata": {},
   "outputs": [
    {
     "data": {
      "text/plain": [
       "('housing.csv', <http.client.HTTPMessage at 0x20aa98eee50>)"
      ]
     },
     "execution_count": 3,
     "metadata": {},
     "output_type": "execute_result"
    }
   ],
   "source": [
    "from urllib.request import urlretrieve as ret\n",
    "url = \"https://raw.githubusercontent.com/jbrownlee/Datasets/master/housing.csv\"\n",
    "ret(url, \"housing.csv\")\n"
   ]
  },
  {
   "cell_type": "code",
   "execution_count": 4,
   "id": "3c531633",
   "metadata": {
    "scrolled": true
   },
   "outputs": [
    {
     "data": {
      "text/html": [
       "<div>\n",
       "<style scoped>\n",
       "    .dataframe tbody tr th:only-of-type {\n",
       "        vertical-align: middle;\n",
       "    }\n",
       "\n",
       "    .dataframe tbody tr th {\n",
       "        vertical-align: top;\n",
       "    }\n",
       "\n",
       "    .dataframe thead th {\n",
       "        text-align: right;\n",
       "    }\n",
       "</style>\n",
       "<table border=\"1\" class=\"dataframe\">\n",
       "  <thead>\n",
       "    <tr style=\"text-align: right;\">\n",
       "      <th></th>\n",
       "      <th>0</th>\n",
       "      <th>1</th>\n",
       "      <th>2</th>\n",
       "      <th>3</th>\n",
       "      <th>4</th>\n",
       "      <th>5</th>\n",
       "      <th>6</th>\n",
       "      <th>7</th>\n",
       "      <th>8</th>\n",
       "      <th>9</th>\n",
       "      <th>10</th>\n",
       "      <th>11</th>\n",
       "      <th>12</th>\n",
       "      <th>13</th>\n",
       "    </tr>\n",
       "  </thead>\n",
       "  <tbody>\n",
       "    <tr>\n",
       "      <th>0</th>\n",
       "      <td>0.00632</td>\n",
       "      <td>18.0</td>\n",
       "      <td>2.31</td>\n",
       "      <td>0</td>\n",
       "      <td>0.538</td>\n",
       "      <td>6.575</td>\n",
       "      <td>65.2</td>\n",
       "      <td>4.0900</td>\n",
       "      <td>1</td>\n",
       "      <td>296.0</td>\n",
       "      <td>15.3</td>\n",
       "      <td>396.90</td>\n",
       "      <td>4.98</td>\n",
       "      <td>24.0</td>\n",
       "    </tr>\n",
       "    <tr>\n",
       "      <th>1</th>\n",
       "      <td>0.02731</td>\n",
       "      <td>0.0</td>\n",
       "      <td>7.07</td>\n",
       "      <td>0</td>\n",
       "      <td>0.469</td>\n",
       "      <td>6.421</td>\n",
       "      <td>78.9</td>\n",
       "      <td>4.9671</td>\n",
       "      <td>2</td>\n",
       "      <td>242.0</td>\n",
       "      <td>17.8</td>\n",
       "      <td>396.90</td>\n",
       "      <td>9.14</td>\n",
       "      <td>21.6</td>\n",
       "    </tr>\n",
       "    <tr>\n",
       "      <th>2</th>\n",
       "      <td>0.02729</td>\n",
       "      <td>0.0</td>\n",
       "      <td>7.07</td>\n",
       "      <td>0</td>\n",
       "      <td>0.469</td>\n",
       "      <td>7.185</td>\n",
       "      <td>61.1</td>\n",
       "      <td>4.9671</td>\n",
       "      <td>2</td>\n",
       "      <td>242.0</td>\n",
       "      <td>17.8</td>\n",
       "      <td>392.83</td>\n",
       "      <td>4.03</td>\n",
       "      <td>34.7</td>\n",
       "    </tr>\n",
       "    <tr>\n",
       "      <th>3</th>\n",
       "      <td>0.03237</td>\n",
       "      <td>0.0</td>\n",
       "      <td>2.18</td>\n",
       "      <td>0</td>\n",
       "      <td>0.458</td>\n",
       "      <td>6.998</td>\n",
       "      <td>45.8</td>\n",
       "      <td>6.0622</td>\n",
       "      <td>3</td>\n",
       "      <td>222.0</td>\n",
       "      <td>18.7</td>\n",
       "      <td>394.63</td>\n",
       "      <td>2.94</td>\n",
       "      <td>33.4</td>\n",
       "    </tr>\n",
       "    <tr>\n",
       "      <th>4</th>\n",
       "      <td>0.06905</td>\n",
       "      <td>0.0</td>\n",
       "      <td>2.18</td>\n",
       "      <td>0</td>\n",
       "      <td>0.458</td>\n",
       "      <td>7.147</td>\n",
       "      <td>54.2</td>\n",
       "      <td>6.0622</td>\n",
       "      <td>3</td>\n",
       "      <td>222.0</td>\n",
       "      <td>18.7</td>\n",
       "      <td>396.90</td>\n",
       "      <td>5.33</td>\n",
       "      <td>36.2</td>\n",
       "    </tr>\n",
       "  </tbody>\n",
       "</table>\n",
       "</div>"
      ],
      "text/plain": [
       "        0     1     2   3      4      5     6       7   8      9     10  \\\n",
       "0  0.00632  18.0  2.31   0  0.538  6.575  65.2  4.0900   1  296.0  15.3   \n",
       "1  0.02731   0.0  7.07   0  0.469  6.421  78.9  4.9671   2  242.0  17.8   \n",
       "2  0.02729   0.0  7.07   0  0.469  7.185  61.1  4.9671   2  242.0  17.8   \n",
       "3  0.03237   0.0  2.18   0  0.458  6.998  45.8  6.0622   3  222.0  18.7   \n",
       "4  0.06905   0.0  2.18   0  0.458  7.147  54.2  6.0622   3  222.0  18.7   \n",
       "\n",
       "       11    12    13  \n",
       "0  396.90  4.98  24.0  \n",
       "1  396.90  9.14  21.6  \n",
       "2  392.83  4.03  34.7  \n",
       "3  394.63  2.94  33.4  \n",
       "4  396.90  5.33  36.2  "
      ]
     },
     "execution_count": 4,
     "metadata": {},
     "output_type": "execute_result"
    }
   ],
   "source": [
    "import pandas as pd\n",
    "df = pd.read_csv(url, header=None)\n",
    "df.head(5)"
   ]
  },
  {
   "cell_type": "code",
   "execution_count": 5,
   "id": "51de08de",
   "metadata": {
    "scrolled": true
   },
   "outputs": [
    {
     "name": "stdout",
     "output_type": "stream",
     "text": [
      "<class 'pandas.core.frame.DataFrame'>\n",
      "RangeIndex: 506 entries, 0 to 505\n",
      "Data columns (total 14 columns):\n",
      " #   Column  Non-Null Count  Dtype  \n",
      "---  ------  --------------  -----  \n",
      " 0   0       506 non-null    float64\n",
      " 1   1       506 non-null    float64\n",
      " 2   2       506 non-null    float64\n",
      " 3   3       506 non-null    int64  \n",
      " 4   4       506 non-null    float64\n",
      " 5   5       506 non-null    float64\n",
      " 6   6       506 non-null    float64\n",
      " 7   7       506 non-null    float64\n",
      " 8   8       506 non-null    int64  \n",
      " 9   9       506 non-null    float64\n",
      " 10  10      506 non-null    float64\n",
      " 11  11      506 non-null    float64\n",
      " 12  12      506 non-null    float64\n",
      " 13  13      506 non-null    float64\n",
      "dtypes: float64(12), int64(2)\n",
      "memory usage: 55.5 KB\n"
     ]
    }
   ],
   "source": [
    "df.describe()\n",
    "df.info()\n",
    "# the dataset doesn't contain any missing values\n"
   ]
  },
  {
   "cell_type": "code",
   "execution_count": 6,
   "id": "5d30255c",
   "metadata": {},
   "outputs": [
    {
     "name": "stdout",
     "output_type": "stream",
     "text": [
      "(506, 13) (506,)\n",
      "(339, 13) (167, 13) (339,) (167,)\n"
     ]
    }
   ],
   "source": [
    "# now detecting outliers.\n",
    "\n",
    "from sklearn.model_selection import train_test_split\n",
    "\n",
    "# retrieve the array.\n",
    "data = df.values\n",
    "\n",
    "# split the data\n",
    "X, y = data[:, :-1], data[:, -1]\n",
    "\n",
    "# summarise the shape of the data\n",
    "\n",
    "print(X.shape, y.shape)\n",
    "\n",
    "# split into train and test set\n",
    "X_train, X_test, y_train, y_test = train_test_split(X, y ,\n",
    "                                                   test_size=0.33, random_state=1)\n",
    "\n",
    "# summarize the shahpe of the train and test sets.\n",
    "\n",
    "print(X_train.shape, X_test.shape, y_train.shape, y_test.shape)\n",
    "\n",
    "# makes sense since we did slit the data.\n"
   ]
  },
  {
   "cell_type": "code",
   "execution_count": 7,
   "id": "3a0ecc0c",
   "metadata": {},
   "outputs": [
    {
     "name": "stdout",
     "output_type": "stream",
     "text": [
      "MAE: 3.417\n"
     ]
    }
   ],
   "source": [
    "# we fit a linear regression model and evaluate the predictions\n",
    "# using MAE mean absolute error.\n",
    "# the model was fit without first removing outliers.\n",
    "\n",
    "from sklearn.linear_model import LinearRegression\n",
    "from sklearn.metrics import mean_absolute_error\n",
    "\n",
    "model = LinearRegression()\n",
    "model.fit(X_train, y_train)\n",
    "\n",
    "# evaluate the model.\n",
    "yhat = model.predict(X_test)\n",
    "\n",
    "mae = mean_absolute_error(y_test, yhat)\n",
    "print(\"MAE: %.3f\"% mae)"
   ]
  },
  {
   "cell_type": "code",
   "execution_count": 17,
   "id": "454b9589",
   "metadata": {},
   "outputs": [
    {
     "name": "stdout",
     "output_type": "stream",
     "text": [
      "(295, 13) (295,)\n",
      "<class 'numpy.ndarray'> 295 True\n",
      "(295, 13) (295,)\n",
      "MAE: 3.371\n"
     ]
    },
    {
     "data": {
      "image/png": "[encoded data removed]",
      "text/plain": [
       "<Figure size 432x288 with 1 Axes>"
      ]
     },
     "metadata": {
      "needs_background": "light"
     },
     "output_type": "display_data"
    }
   ],
   "source": [
    "# now removing outliers.\n",
    "from sklearn.neighbors import LocalOutlierFactor\n",
    "print(X_train.shape, y_train.shape)\n",
    "# identifying outliers in the training dataset\n",
    "\n",
    "lof = LocalOutlierFactor()\n",
    "\n",
    "yhat = lof.fit_predict(X_train)\n",
    "\n",
    "# select all rows that are not outliers\n",
    "mask = yhat != -1\n",
    "\n",
    "print(type(mask), len(mask), mask[2])\n",
    "\n",
    "# the mask ndarray contain true and false values \n",
    "\n",
    "X_train,y_train = X_train[mask, : ], y_train[mask]\n",
    "\n",
    "# summarize the shape of the updated training dataset\n",
    "\n",
    "print(X_train.shape, y_train.shape)\n",
    "\n",
    "# fit the model\n",
    "model = LinearRegression()\n",
    "model.fit(X_train, y_train)\n",
    "\n",
    "\n",
    "\n",
    "# nd evaluate the model\n",
    "\n",
    "yhat = model.predict(X_test)\n",
    "\n",
    "# evaluate predictions\n",
    "\n",
    "mae1 = mean_absolute_error(y_test, yhat)\n",
    "\n",
    "print(\"MAE: %.3f\"% mae1)\n",
    "\n",
    "\n",
    "# we can print a line graph to detect change in mae\n",
    "\n",
    "from matplotlib import pyplot\n",
    "\n",
    "x = [\"with outlier\",\"without outlier\"] \n",
    "y = [mae, mae1]\n",
    "\n",
    "pyplot.plot(x,y)\n",
    "pyplot.ylim(3.35,3.5)\n",
    "pyplot.show()\n",
    "\n",
    "# we can see a small significant drop in mae."
   ]
  },
  {
   "cell_type": "code",
   "execution_count": 9,
   "id": "426a4309",
   "metadata": {},
   "outputs": [
    {
     "data": {
      "text/plain": [
       "3.417472278801661"
      ]
     },
     "execution_count": 9,
     "metadata": {},
     "output_type": "execute_result"
    }
   ],
   "source": [
    "mae"
   ]
  }
 ],
 "metadata": {
  "kernelspec": {
   "display_name": "Python 3",
   "language": "python",
   "name": "python3"
  },
  "language_info": {
   "codemirror_mode": {
    "name": "ipython",
    "version": 3
   },
   "file_extension": ".py",
   "mimetype": "text/x-python",
   "name": "python",
   "nbconvert_exporter": "python",
   "pygments_lexer": "ipython3",
   "version": "3.8.8"
  }
 },
 "nbformat": 4,
 "nbformat_minor": 5
}
